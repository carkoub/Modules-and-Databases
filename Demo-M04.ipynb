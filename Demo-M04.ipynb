{
 "cells": [
  {
   "cell_type": "code",
   "execution_count": 4,
   "id": "ceefc226",
   "metadata": {},
   "outputs": [],
   "source": [
    "#16.8\n",
    "lines = [\n",
    "    \"author,book\",\n",
    "    \"J R R Tolkien,The Hobbit\",\n",
    "    'Lynne Truss,\"Eats, Shoots & Leaves\"'\n",
    "]\n",
    "\n",
    "with open('books.csv', 'w') as file:\n",
    "    for line in lines:\n",
    "        file.write(line + '\\n')"
   ]
  },
  {
   "cell_type": "code",
   "execution_count": 5,
   "id": "86dbafd7",
   "metadata": {},
   "outputs": [
    {
     "name": "stdout",
     "output_type": "stream",
     "text": [
      "[{'author': 'J R R Tolkien', 'book': 'The Hobbit'}, {'author': 'Lynne Truss', 'book': 'Eats, Shoots & Leaves'}]\n"
     ]
    }
   ],
   "source": [
    "import csv\n",
    "\n",
    "with open('books.csv', 'r') as file:\n",
    "    reader = csv.DictReader(file)\n",
    "    books = list(reader)\n",
    "\n",
    "print(books)"
   ]
  },
  {
   "cell_type": "code",
   "execution_count": 6,
   "id": "e45a8098",
   "metadata": {},
   "outputs": [],
   "source": [
    "lines = [\n",
    "    \"title,author,year\",\n",
    "    \"The Weirdstone of Brisingamen,Alan Garner,1960\",\n",
    "    \"Perdido Street Station,China Miéville,2000\",\n",
    "    \"Thud!,Terry Pratchett,2005\",\n",
    "    \"The Spellman Files,Lisa Lutz,2007\",\n",
    "    \"Small Gods,Terry Pratchett,1992\"\n",
    "]\n",
    "\n",
    "with open('books2.csv', 'w') as file:\n",
    "    for line in lines:\n",
    "        file.write(line + '\\n')"
   ]
  },
  {
   "cell_type": "code",
   "execution_count": 7,
   "id": "bea03611",
   "metadata": {},
   "outputs": [],
   "source": [
    "import sqlite3\n",
    "\n",
    "conn = sqlite3.connect('books.db')\n",
    "cursor = conn.cursor()\n",
    "\n",
    "cursor.execute('''\n",
    "    CREATE TABLE IF NOT EXISTS books (\n",
    "        title TEXT,\n",
    "        author TEXT,\n",
    "        year INTEGER\n",
    "    )\n",
    "''')\n",
    "\n",
    "conn.commit()\n",
    "conn.close()"
   ]
  },
  {
   "cell_type": "code",
   "execution_count": 8,
   "id": "03554933",
   "metadata": {},
   "outputs": [],
   "source": [
    "with open('books2.csv', 'r') as file:\n",
    "    csv_reader = csv.reader(file)\n",
    "    next(csv_reader)  # skip the header\n",
    "    for row in csv_reader:\n",
    "        conn = sqlite3.connect('books.db')\n",
    "        cursor = conn.cursor()\n",
    "        cursor.execute('INSERT INTO books VALUES (?, ?, ?)', (row[0], row[1], int(row[2])))\n",
    "        conn.commit()\n",
    "        conn.close()"
   ]
  },
  {
   "cell_type": "code",
   "execution_count": 9,
   "id": "ded82168",
   "metadata": {},
   "outputs": [
    {
     "name": "stdout",
     "output_type": "stream",
     "text": [
      "[('Perdido Street Station',), ('Small Gods',), ('The Spellman Files',), ('The Weirdstone of Brisingamen',), ('Thud!',)]\n"
     ]
    }
   ],
   "source": [
    "conn = sqlite3.connect('books.db')\n",
    "cursor = conn.cursor()\n",
    "cursor.execute('SELECT title FROM books ORDER BY title')\n",
    "titles = cursor.fetchall()\n",
    "conn.close()\n",
    "\n",
    "print(titles)"
   ]
  },
  {
   "cell_type": "code",
   "execution_count": 10,
   "id": "580e064f",
   "metadata": {},
   "outputs": [
    {
     "name": "stdout",
     "output_type": "stream",
     "text": [
      "[('The Weirdstone of Brisingamen', 'Alan Garner', 1960), ('Small Gods', 'Terry Pratchett', 1992), ('Perdido Street Station', 'China Miéville', 2000), ('Thud!', 'Terry Pratchett', 2005), ('The Spellman Files', 'Lisa Lutz', 2007)]\n"
     ]
    }
   ],
   "source": [
    "# Select and print all columns from the book table in order of publication.\n",
    "\n",
    "conn = sqlite3.connect('books.db')\n",
    "cursor = conn.cursor()\n",
    "cursor.execute('SELECT * FROM books ORDER BY year')\n",
    "all_columns = cursor.fetchall()\n",
    "conn.close()\n",
    "\n",
    "print(all_columns)"
   ]
  },
  {
   "cell_type": "code",
   "execution_count": 11,
   "id": "bf6150c2",
   "metadata": {},
   "outputs": [
    {
     "name": "stdout",
     "output_type": "stream",
     "text": [
      "2023-11-20 18:22:33,525 INFO sqlalchemy.engine.Engine PRAGMA main.table_xinfo(\"books\")\n",
      "2023-11-20 18:22:33,525 INFO sqlalchemy.engine.Engine [raw sql] ()\n",
      "2023-11-20 18:22:33,528 INFO sqlalchemy.engine.Engine SELECT sql FROM  (SELECT * FROM sqlite_master UNION ALL   SELECT * FROM sqlite_temp_master) WHERE name = ? AND type = 'table'\n",
      "2023-11-20 18:22:33,529 INFO sqlalchemy.engine.Engine [raw sql] ('books',)\n",
      "2023-11-20 18:22:33,531 INFO sqlalchemy.engine.Engine PRAGMA main.foreign_key_list(\"books\")\n",
      "2023-11-20 18:22:33,532 INFO sqlalchemy.engine.Engine [raw sql] ()\n",
      "2023-11-20 18:22:33,534 INFO sqlalchemy.engine.Engine PRAGMA temp.foreign_key_list(\"books\")\n",
      "2023-11-20 18:22:33,535 INFO sqlalchemy.engine.Engine [raw sql] ()\n",
      "2023-11-20 18:22:33,537 INFO sqlalchemy.engine.Engine SELECT sql FROM  (SELECT * FROM sqlite_master UNION ALL   SELECT * FROM sqlite_temp_master) WHERE name = ? AND type = 'table'\n",
      "2023-11-20 18:22:33,538 INFO sqlalchemy.engine.Engine [raw sql] ('books',)\n",
      "2023-11-20 18:22:33,542 INFO sqlalchemy.engine.Engine PRAGMA main.index_list(\"books\")\n",
      "2023-11-20 18:22:33,544 INFO sqlalchemy.engine.Engine [raw sql] ()\n",
      "2023-11-20 18:22:33,545 INFO sqlalchemy.engine.Engine PRAGMA temp.index_list(\"books\")\n",
      "2023-11-20 18:22:33,546 INFO sqlalchemy.engine.Engine [raw sql] ()\n",
      "2023-11-20 18:22:33,547 INFO sqlalchemy.engine.Engine PRAGMA main.index_list(\"books\")\n",
      "2023-11-20 18:22:33,547 INFO sqlalchemy.engine.Engine [raw sql] ()\n",
      "2023-11-20 18:22:33,549 INFO sqlalchemy.engine.Engine PRAGMA temp.index_list(\"books\")\n",
      "2023-11-20 18:22:33,550 INFO sqlalchemy.engine.Engine [raw sql] ()\n",
      "2023-11-20 18:22:33,551 INFO sqlalchemy.engine.Engine SELECT sql FROM  (SELECT * FROM sqlite_master UNION ALL   SELECT * FROM sqlite_temp_master) WHERE name = ? AND type = 'table'\n",
      "2023-11-20 18:22:33,552 INFO sqlalchemy.engine.Engine [raw sql] ('books',)\n",
      "2023-11-20 18:22:33,562 INFO sqlalchemy.engine.Engine SELECT books.title \n",
      "FROM books ORDER BY books.title\n",
      "2023-11-20 18:22:33,562 INFO sqlalchemy.engine.Engine [generated in 0.00092s] ()\n",
      "Perdido Street Station\n",
      "Small Gods\n",
      "The Spellman Files\n",
      "The Weirdstone of Brisingamen\n",
      "Thud!\n"
     ]
    }
   ],
   "source": [
    "from sqlalchemy import create_engine, select, MetaData, Table\n",
    "\n",
    "engine = create_engine('sqlite:///books.db', echo=True)\n",
    "metadata = MetaData()\n",
    "books = Table('books', metadata, autoload_with=engine)\n",
    "\n",
    "with engine.connect() as connection:\n",
    "    stmt = select([books.columns.title]).order_by(books.columns.title)\n",
    "    results = connection.execute(stmt).fetchall()\n",
    "\n",
    "    for title in results:\n",
    "        print(title[0])"
   ]
  },
  {
   "cell_type": "code",
   "execution_count": 20,
   "id": "8623c06e",
   "metadata": {},
   "outputs": [],
   "source": [
    "# 11.1 \n",
    "#  Create a file called zoo.py. In it, define a function called hours()\n",
    "#  that prints the string 'Open 9-5 daily'\n",
    "\n",
    "\n",
    "#zoo.py (wont work on this unless zoo.py file is on the same folder)\n",
    "\n",
    "def hours ():\n",
    "    return \"Open 9-5 daily\""
   ]
  },
  {
   "cell_type": "code",
   "execution_count": 22,
   "id": "0d087547",
   "metadata": {},
   "outputs": [
    {
     "ename": "ModuleNotFoundError",
     "evalue": "No module named 'zoo'",
     "output_type": "error",
     "traceback": [
      "\u001b[1;31m---------------------------------------------------------------------------\u001b[0m",
      "\u001b[1;31mModuleNotFoundError\u001b[0m                       Traceback (most recent call last)",
      "Cell \u001b[1;32mIn[22], line 2\u001b[0m\n\u001b[0;32m      1\u001b[0m \u001b[38;5;66;03m#Import the zoo module and call its hours() function\u001b[39;00m\n\u001b[1;32m----> 2\u001b[0m \u001b[38;5;28;01mimport\u001b[39;00m \u001b[38;5;21;01mzoo\u001b[39;00m\n\u001b[0;32m      3\u001b[0m hours()\n",
      "\u001b[1;31mModuleNotFoundError\u001b[0m: No module named 'zoo'"
     ]
    }
   ],
   "source": [
    "#Import the zoo module and call its hours() function\n",
    "import zoo\n",
    "hours()"
   ]
  },
  {
   "cell_type": "code",
   "execution_count": 23,
   "id": "7015c41d",
   "metadata": {},
   "outputs": [
    {
     "ename": "ModuleNotFoundError",
     "evalue": "No module named 'zoo'",
     "output_type": "error",
     "traceback": [
      "\u001b[1;31m---------------------------------------------------------------------------\u001b[0m",
      "\u001b[1;31mModuleNotFoundError\u001b[0m                       Traceback (most recent call last)",
      "Cell \u001b[1;32mIn[23], line 2\u001b[0m\n\u001b[0;32m      1\u001b[0m \u001b[38;5;66;03m#     11.2\u001b[39;00m\n\u001b[1;32m----> 2\u001b[0m \u001b[38;5;28;01mimport\u001b[39;00m \u001b[38;5;21;01mzoo\u001b[39;00m \u001b[38;5;28;01mas\u001b[39;00m \u001b[38;5;21;01mmenagerie\u001b[39;00m\n\u001b[0;32m      3\u001b[0m hours()\n",
      "\u001b[1;31mModuleNotFoundError\u001b[0m: No module named 'zoo'"
     ]
    }
   ],
   "source": [
    "#     11.2\n",
    "import zoo as menagerie\n",
    "hours()"
   ]
  },
  {
   "cell_type": "code",
   "execution_count": null,
   "id": "786ac00b",
   "metadata": {},
   "outputs": [],
   "source": []
  }
 ],
 "metadata": {
  "kernelspec": {
   "display_name": "Python 3 (ipykernel)",
   "language": "python",
   "name": "python3"
  },
  "language_info": {
   "codemirror_mode": {
    "name": "ipython",
    "version": 3
   },
   "file_extension": ".py",
   "mimetype": "text/x-python",
   "name": "python",
   "nbconvert_exporter": "python",
   "pygments_lexer": "ipython3",
   "version": "3.11.5"
  }
 },
 "nbformat": 4,
 "nbformat_minor": 5
}
